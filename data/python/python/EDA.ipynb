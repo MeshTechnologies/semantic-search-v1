{
 "cells": [
  {
   "cell_type": "code",
   "execution_count": 1,
   "id": "d89a7c85",
   "metadata": {},
   "outputs": [],
   "source": [
    "import pandas as pd    \n",
    "import gzip\n",
    "import os\n",
    "\n",
    "def getListOfFiles(dirName):\n",
    "    \"\"\"Walks a directory to return a list of paths to all the files in it and it's\n",
    "    sub-directories.\n",
    "    Arguments:\n",
    "    dirName (string): path to directory to walk\n",
    "    \"\"\"\n",
    "    list_of_files = os.listdir(dirName)\n",
    "    all_files = list()\n",
    "    for entry in list_of_files:\n",
    "        full_path = os.path.join(dirName, entry)\n",
    "        if os.path.isdir(full_path):\n",
    "            all_files = all_files + getListOfFiles(full_path)\n",
    "        else:\n",
    "            all_files.append(full_path)\n",
    "    return all_files"
   ]
  },
  {
   "cell_type": "code",
   "execution_count": 2,
   "id": "a8a56c40",
   "metadata": {},
   "outputs": [
    {
     "name": "stdout",
     "output_type": "stream",
     "text": [
      "['final/jsonl/train/python_train_13.jsonl', 'final/jsonl/train/python_train_11.jsonl', 'final/jsonl/train/.DS_Store', 'final/jsonl/train/python_train_8.jsonl', 'final/jsonl/train/python_train_10.jsonl', 'final/jsonl/train/python_train_12.jsonl', 'final/jsonl/train/python_train_9.jsonl', 'final/jsonl/train/python_train_7.jsonl', 'final/jsonl/train/python_train_5.jsonl', 'final/jsonl/train/python_train_1.jsonl', 'final/jsonl/train/python_train_3.jsonl', 'final/jsonl/train/python_train_4.jsonl', 'final/jsonl/train/python_train_6.jsonl', 'final/jsonl/train/python_train_2.jsonl', 'final/jsonl/train/python_train_0.jsonl']\n"
     ]
    },
    {
     "data": {
      "text/plain": [
       "['final/jsonl/train/python_train_13.jsonl',\n",
       " 'final/jsonl/train/python_train_11.jsonl',\n",
       " 'final/jsonl/train/python_train_8.jsonl',\n",
       " 'final/jsonl/train/python_train_10.jsonl',\n",
       " 'final/jsonl/train/python_train_12.jsonl',\n",
       " 'final/jsonl/train/python_train_9.jsonl',\n",
       " 'final/jsonl/train/python_train_7.jsonl',\n",
       " 'final/jsonl/train/python_train_5.jsonl',\n",
       " 'final/jsonl/train/python_train_1.jsonl',\n",
       " 'final/jsonl/train/python_train_3.jsonl',\n",
       " 'final/jsonl/train/python_train_4.jsonl',\n",
       " 'final/jsonl/train/python_train_6.jsonl',\n",
       " 'final/jsonl/train/python_train_2.jsonl',\n",
       " 'final/jsonl/train/python_train_0.jsonl']"
      ]
     },
     "execution_count": 2,
     "metadata": {},
     "output_type": "execute_result"
    }
   ],
   "source": [
    "# start by getting a file path to each language file\n",
    "fp_list = getListOfFiles('final/jsonl/train')\n",
    "print(fp_list)\n",
    "del fp_list[2]\n",
    "fp_list"
   ]
  },
  {
   "cell_type": "code",
   "execution_count": 3,
   "id": "aa963b03",
   "metadata": {},
   "outputs": [],
   "source": [
    "# then we read the data into Dataframes for analysis and preparation\n",
    "df_list = []\n",
    "for fp in fp_list:\n",
    "    df_list.append(pd.read_json(path_or_buf=fp, lines=True))\n"
   ]
  },
  {
   "cell_type": "code",
   "execution_count": 4,
   "id": "9f11d28c",
   "metadata": {},
   "outputs": [
    {
     "data": {
      "text/html": [
       "<div>\n",
       "<style scoped>\n",
       "    .dataframe tbody tr th:only-of-type {\n",
       "        vertical-align: middle;\n",
       "    }\n",
       "\n",
       "    .dataframe tbody tr th {\n",
       "        vertical-align: top;\n",
       "    }\n",
       "\n",
       "    .dataframe thead th {\n",
       "        text-align: right;\n",
       "    }\n",
       "</style>\n",
       "<table border=\"1\" class=\"dataframe\">\n",
       "  <thead>\n",
       "    <tr style=\"text-align: right;\">\n",
       "      <th></th>\n",
       "      <th>repo</th>\n",
       "      <th>path</th>\n",
       "      <th>func_name</th>\n",
       "      <th>original_string</th>\n",
       "      <th>language</th>\n",
       "      <th>code</th>\n",
       "      <th>code_tokens</th>\n",
       "      <th>docstring</th>\n",
       "      <th>docstring_tokens</th>\n",
       "      <th>sha</th>\n",
       "      <th>url</th>\n",
       "      <th>partition</th>\n",
       "    </tr>\n",
       "  </thead>\n",
       "  <tbody>\n",
       "    <tr>\n",
       "      <th>0</th>\n",
       "      <td>ArabellaTech/django-basic-cms</td>\n",
       "      <td>basic_cms/templatetags/pages_tags.py</td>\n",
       "      <td>show_slug_with_level</td>\n",
       "      <td>def show_slug_with_level(context, page, lang=N...</td>\n",
       "      <td>python</td>\n",
       "      <td>def show_slug_with_level(context, page, lang=N...</td>\n",
       "      <td>[def, show_slug_with_level, (, context, ,, pag...</td>\n",
       "      <td>Display slug with level by language.</td>\n",
       "      <td>[Display, slug, with, level, by, language, .]</td>\n",
       "      <td>863f3c6098606f663994930cd8e7723ad0c07caf</td>\n",
       "      <td>https://github.com/ArabellaTech/django-basic-c...</td>\n",
       "      <td>train</td>\n",
       "    </tr>\n",
       "    <tr>\n",
       "      <th>1</th>\n",
       "      <td>ArabellaTech/django-basic-cms</td>\n",
       "      <td>basic_cms/templatetags/pages_tags.py</td>\n",
       "      <td>show_revisions</td>\n",
       "      <td>def show_revisions(context, page, content_type...</td>\n",
       "      <td>python</td>\n",
       "      <td>def show_revisions(context, page, content_type...</td>\n",
       "      <td>[def, show_revisions, (, context, ,, page, ,, ...</td>\n",
       "      <td>Render the last 10 revisions of a page content...</td>\n",
       "      <td>[Render, the, last, 10, revisions, of, a, page...</td>\n",
       "      <td>863f3c6098606f663994930cd8e7723ad0c07caf</td>\n",
       "      <td>https://github.com/ArabellaTech/django-basic-c...</td>\n",
       "      <td>train</td>\n",
       "    </tr>\n",
       "    <tr>\n",
       "      <th>2</th>\n",
       "      <td>ArabellaTech/django-basic-cms</td>\n",
       "      <td>basic_cms/templatetags/pages_tags.py</td>\n",
       "      <td>do_videoplaceholder</td>\n",
       "      <td>def do_videoplaceholder(parser, token):\\n    \"...</td>\n",
       "      <td>python</td>\n",
       "      <td>def do_videoplaceholder(parser, token):\\n    \"...</td>\n",
       "      <td>[def, do_videoplaceholder, (, parser, ,, token...</td>\n",
       "      <td>Method that parse the imageplaceholder templat...</td>\n",
       "      <td>[Method, that, parse, the, imageplaceholder, t...</td>\n",
       "      <td>863f3c6098606f663994930cd8e7723ad0c07caf</td>\n",
       "      <td>https://github.com/ArabellaTech/django-basic-c...</td>\n",
       "      <td>train</td>\n",
       "    </tr>\n",
       "    <tr>\n",
       "      <th>3</th>\n",
       "      <td>ArabellaTech/django-basic-cms</td>\n",
       "      <td>basic_cms/templatetags/pages_tags.py</td>\n",
       "      <td>do_get_pages_with_tag</td>\n",
       "      <td>def do_get_pages_with_tag(parser, token):\\n   ...</td>\n",
       "      <td>python</td>\n",
       "      <td>def do_get_pages_with_tag(parser, token):\\n   ...</td>\n",
       "      <td>[def, do_get_pages_with_tag, (, parser, ,, tok...</td>\n",
       "      <td>Return Pages with given tag\\n\\n    Syntax::\\n\\...</td>\n",
       "      <td>[Return, Pages, with, given, tag]</td>\n",
       "      <td>863f3c6098606f663994930cd8e7723ad0c07caf</td>\n",
       "      <td>https://github.com/ArabellaTech/django-basic-c...</td>\n",
       "      <td>train</td>\n",
       "    </tr>\n",
       "    <tr>\n",
       "      <th>4</th>\n",
       "      <td>lowandrew/OLCTools</td>\n",
       "      <td>sipprCommon/runMetadata.py</td>\n",
       "      <td>Metadata.parserunstats</td>\n",
       "      <td>def parserunstats(self):\\n        \"\"\"Parses th...</td>\n",
       "      <td>python</td>\n",
       "      <td>def parserunstats(self):\\n        \"\"\"Parses th...</td>\n",
       "      <td>[def, parserunstats, (, self, ), :, # metadata...</td>\n",
       "      <td>Parses the XML run statistics file (GenerateFA...</td>\n",
       "      <td>[Parses, the, XML, run, statistics, file, (, G...</td>\n",
       "      <td>88aa90ac85f84d0bbeb03e43c29b0a9d36e4ce2a</td>\n",
       "      <td>https://github.com/lowandrew/OLCTools/blob/88a...</td>\n",
       "      <td>train</td>\n",
       "    </tr>\n",
       "  </tbody>\n",
       "</table>\n",
       "</div>"
      ],
      "text/plain": [
       "                            repo                                  path  \\\n",
       "0  ArabellaTech/django-basic-cms  basic_cms/templatetags/pages_tags.py   \n",
       "1  ArabellaTech/django-basic-cms  basic_cms/templatetags/pages_tags.py   \n",
       "2  ArabellaTech/django-basic-cms  basic_cms/templatetags/pages_tags.py   \n",
       "3  ArabellaTech/django-basic-cms  basic_cms/templatetags/pages_tags.py   \n",
       "4             lowandrew/OLCTools            sipprCommon/runMetadata.py   \n",
       "\n",
       "                func_name                                    original_string  \\\n",
       "0    show_slug_with_level  def show_slug_with_level(context, page, lang=N...   \n",
       "1          show_revisions  def show_revisions(context, page, content_type...   \n",
       "2     do_videoplaceholder  def do_videoplaceholder(parser, token):\\n    \"...   \n",
       "3   do_get_pages_with_tag  def do_get_pages_with_tag(parser, token):\\n   ...   \n",
       "4  Metadata.parserunstats  def parserunstats(self):\\n        \"\"\"Parses th...   \n",
       "\n",
       "  language                                               code  \\\n",
       "0   python  def show_slug_with_level(context, page, lang=N...   \n",
       "1   python  def show_revisions(context, page, content_type...   \n",
       "2   python  def do_videoplaceholder(parser, token):\\n    \"...   \n",
       "3   python  def do_get_pages_with_tag(parser, token):\\n   ...   \n",
       "4   python  def parserunstats(self):\\n        \"\"\"Parses th...   \n",
       "\n",
       "                                         code_tokens  \\\n",
       "0  [def, show_slug_with_level, (, context, ,, pag...   \n",
       "1  [def, show_revisions, (, context, ,, page, ,, ...   \n",
       "2  [def, do_videoplaceholder, (, parser, ,, token...   \n",
       "3  [def, do_get_pages_with_tag, (, parser, ,, tok...   \n",
       "4  [def, parserunstats, (, self, ), :, # metadata...   \n",
       "\n",
       "                                           docstring  \\\n",
       "0               Display slug with level by language.   \n",
       "1  Render the last 10 revisions of a page content...   \n",
       "2  Method that parse the imageplaceholder templat...   \n",
       "3  Return Pages with given tag\\n\\n    Syntax::\\n\\...   \n",
       "4  Parses the XML run statistics file (GenerateFA...   \n",
       "\n",
       "                                    docstring_tokens  \\\n",
       "0      [Display, slug, with, level, by, language, .]   \n",
       "1  [Render, the, last, 10, revisions, of, a, page...   \n",
       "2  [Method, that, parse, the, imageplaceholder, t...   \n",
       "3                  [Return, Pages, with, given, tag]   \n",
       "4  [Parses, the, XML, run, statistics, file, (, G...   \n",
       "\n",
       "                                        sha  \\\n",
       "0  863f3c6098606f663994930cd8e7723ad0c07caf   \n",
       "1  863f3c6098606f663994930cd8e7723ad0c07caf   \n",
       "2  863f3c6098606f663994930cd8e7723ad0c07caf   \n",
       "3  863f3c6098606f663994930cd8e7723ad0c07caf   \n",
       "4  88aa90ac85f84d0bbeb03e43c29b0a9d36e4ce2a   \n",
       "\n",
       "                                                 url partition  \n",
       "0  https://github.com/ArabellaTech/django-basic-c...     train  \n",
       "1  https://github.com/ArabellaTech/django-basic-c...     train  \n",
       "2  https://github.com/ArabellaTech/django-basic-c...     train  \n",
       "3  https://github.com/ArabellaTech/django-basic-c...     train  \n",
       "4  https://github.com/lowandrew/OLCTools/blob/88a...     train  "
      ]
     },
     "execution_count": 4,
     "metadata": {},
     "output_type": "execute_result"
    }
   ],
   "source": [
    "df_list[1].head()"
   ]
  },
  {
   "cell_type": "code",
   "execution_count": 5,
   "id": "15159314",
   "metadata": {},
   "outputs": [
    {
     "name": "stdout",
     "output_type": "stream",
     "text": [
      "number of data points ====> 412178\n",
      "number of data points after processing ====> 412178\n"
     ]
    }
   ],
   "source": [
    "# check for duplicates and remove them if necessary\n",
    "\n",
    "number_of_dps = 0\n",
    "\n",
    "for df in df_list:\n",
    "    number_of_dps += len(df)\n",
    "print(\"number of data points ====> \" + str(number_of_dps))\n",
    "after = 0\n",
    "\n",
    "for df in df_list:\n",
    "    df.drop_duplicates([\"docstring\", \"original_string\"])\n",
    "    after += len(df)\n",
    "print(\"number of data points after processing ====> \" + str(after))"
   ]
  },
  {
   "cell_type": "code",
   "execution_count": 6,
   "id": "82988f86",
   "metadata": {},
   "outputs": [
    {
     "name": "stdout",
     "output_type": "stream",
     "text": [
      "number of data points after processing ====> 375826\n"
     ]
    }
   ],
   "source": [
    "# remove all docstrings that are less than five words\n",
    "\n",
    "after = 0\n",
    "dfs = []\n",
    "for df in df_list:\n",
    "    df = df[df[\"docstring_tokens\"].map(lambda x: len(x) > 4)]\n",
    "    dfs.append(df)\n",
    "    after += len(df)\n",
    "print(\"number of data points after processing ====> \" + str(after))"
   ]
  },
  {
   "cell_type": "code",
   "execution_count": 7,
   "id": "9a42342c",
   "metadata": {},
   "outputs": [
    {
     "name": "stdout",
     "output_type": "stream",
     "text": [
      "number of data points after processing ====> 375552\n"
     ]
    }
   ],
   "source": [
    "# remove all the __init__() function calls\n",
    "\n",
    "after = 0\n",
    "df_list = []\n",
    "for df in dfs:\n",
    "    df = df[df[\"docstring_tokens\"].map(lambda x: \"__init__\" not in x)]\n",
    "    df_list.append(df)\n",
    "    after += len(df)\n",
    "print(\"number of data points after processing ====> \" + str(after))\n"
   ]
  },
  {
   "cell_type": "code",
   "execution_count": 24,
   "id": "a7c1e381",
   "metadata": {},
   "outputs": [],
   "source": [
    "# sort the data in ascending order of function tokens\n",
    "\n",
    "python_df = pd.concat(df_list)\n",
    "python_df[\"len_tok\"] = python_df[\"code_tokens\"].map(lambda x: len(x))\n",
    "python_df.sort_values(by=\"len_tok\", inplace=True)\n",
    "\n",
    "del python_df[\"partition\"]\n",
    "del python_df[\"url\"]\n",
    "del python_df[\"language\"]\n",
    "del python_df[\"func_name\"]\n",
    "del python_df[\"repo\"]\n",
    "del python_df[\"path\"]\n",
    "del python_df[\"original_string\"]\n",
    "del python_df[\"code_tokens\"]\n",
    "del python_df[\"docstring_tokens\"]\n",
    "del python_df[\"sha\"]\n",
    "del python_df[\"len_tok\"]"
   ]
  },
  {
   "cell_type": "code",
   "execution_count": 26,
   "id": "6e2c115a",
   "metadata": {},
   "outputs": [],
   "source": [
    "python_df.head()\n",
    "\n",
    "python_df.to_pickle(\"python_train.pkl\")"
   ]
  },
  {
   "cell_type": "code",
   "execution_count": 35,
   "id": "f6ade62d",
   "metadata": {},
   "outputs": [
    {
     "ename": "ModuleNotFoundError",
     "evalue": "No module named 'datasets'",
     "output_type": "error",
     "traceback": [
      "\u001b[0;31m---------------------------------------------------------------------------\u001b[0m",
      "\u001b[0;31mModuleNotFoundError\u001b[0m                       Traceback (most recent call last)",
      "\u001b[0;32m<ipython-input-35-7b6becee3685>\u001b[0m in \u001b[0;36m<module>\u001b[0;34m\u001b[0m\n\u001b[0;32m----> 1\u001b[0;31m \u001b[0;32mfrom\u001b[0m \u001b[0mdatasets\u001b[0m \u001b[0;32mimport\u001b[0m \u001b[0mDataset\u001b[0m\u001b[0;34m\u001b[0m\u001b[0;34m\u001b[0m\u001b[0m\n\u001b[0m",
      "\u001b[0;31mModuleNotFoundError\u001b[0m: No module named 'datasets'"
     ]
    }
   ],
   "source": [
    "from datasets import Dataset\n"
   ]
  },
  {
   "cell_type": "code",
   "execution_count": null,
   "id": "2daeb323",
   "metadata": {},
   "outputs": [],
   "source": []
  }
 ],
 "metadata": {
  "kernelspec": {
   "display_name": "Python 3.8.10 64-bit (conda)",
   "language": "python",
   "name": "python3810jvsc74a57bd0c47fe77ea0c07802d3749716a77e4ed55f109fa8d30524a3885023081fff1543"
  },
  "language_info": {
   "codemirror_mode": {
    "name": "ipython",
    "version": 3
   },
   "file_extension": ".py",
   "mimetype": "text/x-python",
   "name": "python",
   "nbconvert_exporter": "python",
   "pygments_lexer": "ipython3",
   "version": "3.8.10"
  }
 },
 "nbformat": 4,
 "nbformat_minor": 5
}
