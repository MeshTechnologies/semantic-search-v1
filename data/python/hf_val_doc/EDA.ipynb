{
 "cells": [
  {
   "cell_type": "code",
   "execution_count": 2,
   "id": "d89a7c85",
   "metadata": {},
   "outputs": [],
   "source": [
    "import pandas as pd    \n",
    "import gzip\n",
    "import os\n",
    "\n",
    "def getListOfFiles(dirName):\n",
    "    \"\"\"Walks a directory to return a list of paths to all the files in it and it's\n",
    "    sub-directories.\n",
    "    Arguments:\n",
    "    dirName (string): path to directory to walk\n",
    "    \"\"\"\n",
    "    list_of_files = os.listdir(dirName)\n",
    "    all_files = list()\n",
    "    for entry in list_of_files:\n",
    "        full_path = os.path.join(dirName, entry)\n",
    "        if os.path.isdir(full_path):\n",
    "            all_files = all_files + getListOfFiles(full_path)\n",
    "        else:\n",
    "            all_files.append(full_path)\n",
    "    return all_files"
   ]
  },
  {
   "cell_type": "code",
   "execution_count": 4,
   "id": "a8a56c40",
   "metadata": {},
   "outputs": [],
   "source": [
    "# start by getting a file path to each language file\n",
    "fp_list = getListOfFiles('final/jsonl/valid')\n",
    "fp_list\n",
    "del fp_list[0]"
   ]
  },
  {
   "cell_type": "code",
   "execution_count": 5,
   "id": "aa963b03",
   "metadata": {},
   "outputs": [],
   "source": [
    "# then we read the data into Dataframes for analysis and preparation\n",
    "df_list = []\n",
    "for fp in fp_list:\n",
    "    df_list.append(pd.read_json(path_or_buf=fp, lines=True))\n"
   ]
  },
  {
   "cell_type": "code",
   "execution_count": 6,
   "id": "9f11d28c",
   "metadata": {},
   "outputs": [
    {
     "data": {
      "text/html": [
       "<div>\n",
       "<style scoped>\n",
       "    .dataframe tbody tr th:only-of-type {\n",
       "        vertical-align: middle;\n",
       "    }\n",
       "\n",
       "    .dataframe tbody tr th {\n",
       "        vertical-align: top;\n",
       "    }\n",
       "\n",
       "    .dataframe thead th {\n",
       "        text-align: right;\n",
       "    }\n",
       "</style>\n",
       "<table border=\"1\" class=\"dataframe\">\n",
       "  <thead>\n",
       "    <tr style=\"text-align: right;\">\n",
       "      <th></th>\n",
       "      <th>repo</th>\n",
       "      <th>path</th>\n",
       "      <th>func_name</th>\n",
       "      <th>original_string</th>\n",
       "      <th>language</th>\n",
       "      <th>code</th>\n",
       "      <th>code_tokens</th>\n",
       "      <th>docstring</th>\n",
       "      <th>docstring_tokens</th>\n",
       "      <th>sha</th>\n",
       "      <th>url</th>\n",
       "      <th>partition</th>\n",
       "    </tr>\n",
       "  </thead>\n",
       "  <tbody>\n",
       "    <tr>\n",
       "      <th>0</th>\n",
       "      <td>openai/baselines</td>\n",
       "      <td>baselines/deepq/deepq.py</td>\n",
       "      <td>learn</td>\n",
       "      <td>def learn(env,\\n          network,\\n          ...</td>\n",
       "      <td>python</td>\n",
       "      <td>def learn(env,\\n          network,\\n          ...</td>\n",
       "      <td>[def, learn, (, env, ,, network, ,, seed, =, N...</td>\n",
       "      <td>Train a deepq model.\\n\\n    Parameters\\n    --...</td>\n",
       "      <td>[Train, a, deepq, model, .]</td>\n",
       "      <td>3301089b48c42b87b396e246ea3f56fa4bfc9678</td>\n",
       "      <td>https://github.com/openai/baselines/blob/33010...</td>\n",
       "      <td>valid</td>\n",
       "    </tr>\n",
       "    <tr>\n",
       "      <th>1</th>\n",
       "      <td>openai/baselines</td>\n",
       "      <td>baselines/deepq/deepq.py</td>\n",
       "      <td>ActWrapper.save_act</td>\n",
       "      <td>def save_act(self, path=None):\\n        \"\"\"Sav...</td>\n",
       "      <td>python</td>\n",
       "      <td>def save_act(self, path=None):\\n        \"\"\"Sav...</td>\n",
       "      <td>[def, save_act, (, self, ,, path, =, None, ), ...</td>\n",
       "      <td>Save model to a pickle located at `path`</td>\n",
       "      <td>[Save, model, to, a, pickle, located, at, path]</td>\n",
       "      <td>3301089b48c42b87b396e246ea3f56fa4bfc9678</td>\n",
       "      <td>https://github.com/openai/baselines/blob/33010...</td>\n",
       "      <td>valid</td>\n",
       "    </tr>\n",
       "    <tr>\n",
       "      <th>2</th>\n",
       "      <td>openai/baselines</td>\n",
       "      <td>baselines/common/models.py</td>\n",
       "      <td>nature_cnn</td>\n",
       "      <td>def nature_cnn(unscaled_images, **conv_kwargs)...</td>\n",
       "      <td>python</td>\n",
       "      <td>def nature_cnn(unscaled_images, **conv_kwargs)...</td>\n",
       "      <td>[def, nature_cnn, (, unscaled_images, ,, *, *,...</td>\n",
       "      <td>CNN from Nature paper.</td>\n",
       "      <td>[CNN, from, Nature, paper, .]</td>\n",
       "      <td>3301089b48c42b87b396e246ea3f56fa4bfc9678</td>\n",
       "      <td>https://github.com/openai/baselines/blob/33010...</td>\n",
       "      <td>valid</td>\n",
       "    </tr>\n",
       "    <tr>\n",
       "      <th>3</th>\n",
       "      <td>openai/baselines</td>\n",
       "      <td>baselines/common/models.py</td>\n",
       "      <td>mlp</td>\n",
       "      <td>def mlp(num_layers=2, num_hidden=64, activatio...</td>\n",
       "      <td>python</td>\n",
       "      <td>def mlp(num_layers=2, num_hidden=64, activatio...</td>\n",
       "      <td>[def, mlp, (, num_layers, =, 2, ,, num_hidden,...</td>\n",
       "      <td>Stack of fully-connected layers to be used in ...</td>\n",
       "      <td>[Stack, of, fully, -, connected, layers, to, b...</td>\n",
       "      <td>3301089b48c42b87b396e246ea3f56fa4bfc9678</td>\n",
       "      <td>https://github.com/openai/baselines/blob/33010...</td>\n",
       "      <td>valid</td>\n",
       "    </tr>\n",
       "    <tr>\n",
       "      <th>4</th>\n",
       "      <td>openai/baselines</td>\n",
       "      <td>baselines/common/models.py</td>\n",
       "      <td>lstm</td>\n",
       "      <td>def lstm(nlstm=128, layer_norm=False):\\n    \"\"...</td>\n",
       "      <td>python</td>\n",
       "      <td>def lstm(nlstm=128, layer_norm=False):\\n    \"\"...</td>\n",
       "      <td>[def, lstm, (, nlstm, =, 128, ,, layer_norm, =...</td>\n",
       "      <td>Builds LSTM (Long-Short Term Memory) network t...</td>\n",
       "      <td>[Builds, LSTM, (, Long, -, Short, Term, Memory...</td>\n",
       "      <td>3301089b48c42b87b396e246ea3f56fa4bfc9678</td>\n",
       "      <td>https://github.com/openai/baselines/blob/33010...</td>\n",
       "      <td>valid</td>\n",
       "    </tr>\n",
       "  </tbody>\n",
       "</table>\n",
       "</div>"
      ],
      "text/plain": [
       "               repo                        path            func_name  \\\n",
       "0  openai/baselines    baselines/deepq/deepq.py                learn   \n",
       "1  openai/baselines    baselines/deepq/deepq.py  ActWrapper.save_act   \n",
       "2  openai/baselines  baselines/common/models.py           nature_cnn   \n",
       "3  openai/baselines  baselines/common/models.py                  mlp   \n",
       "4  openai/baselines  baselines/common/models.py                 lstm   \n",
       "\n",
       "                                     original_string language  \\\n",
       "0  def learn(env,\\n          network,\\n          ...   python   \n",
       "1  def save_act(self, path=None):\\n        \"\"\"Sav...   python   \n",
       "2  def nature_cnn(unscaled_images, **conv_kwargs)...   python   \n",
       "3  def mlp(num_layers=2, num_hidden=64, activatio...   python   \n",
       "4  def lstm(nlstm=128, layer_norm=False):\\n    \"\"...   python   \n",
       "\n",
       "                                                code  \\\n",
       "0  def learn(env,\\n          network,\\n          ...   \n",
       "1  def save_act(self, path=None):\\n        \"\"\"Sav...   \n",
       "2  def nature_cnn(unscaled_images, **conv_kwargs)...   \n",
       "3  def mlp(num_layers=2, num_hidden=64, activatio...   \n",
       "4  def lstm(nlstm=128, layer_norm=False):\\n    \"\"...   \n",
       "\n",
       "                                         code_tokens  \\\n",
       "0  [def, learn, (, env, ,, network, ,, seed, =, N...   \n",
       "1  [def, save_act, (, self, ,, path, =, None, ), ...   \n",
       "2  [def, nature_cnn, (, unscaled_images, ,, *, *,...   \n",
       "3  [def, mlp, (, num_layers, =, 2, ,, num_hidden,...   \n",
       "4  [def, lstm, (, nlstm, =, 128, ,, layer_norm, =...   \n",
       "\n",
       "                                           docstring  \\\n",
       "0  Train a deepq model.\\n\\n    Parameters\\n    --...   \n",
       "1           Save model to a pickle located at `path`   \n",
       "2                             CNN from Nature paper.   \n",
       "3  Stack of fully-connected layers to be used in ...   \n",
       "4  Builds LSTM (Long-Short Term Memory) network t...   \n",
       "\n",
       "                                    docstring_tokens  \\\n",
       "0                        [Train, a, deepq, model, .]   \n",
       "1    [Save, model, to, a, pickle, located, at, path]   \n",
       "2                      [CNN, from, Nature, paper, .]   \n",
       "3  [Stack, of, fully, -, connected, layers, to, b...   \n",
       "4  [Builds, LSTM, (, Long, -, Short, Term, Memory...   \n",
       "\n",
       "                                        sha  \\\n",
       "0  3301089b48c42b87b396e246ea3f56fa4bfc9678   \n",
       "1  3301089b48c42b87b396e246ea3f56fa4bfc9678   \n",
       "2  3301089b48c42b87b396e246ea3f56fa4bfc9678   \n",
       "3  3301089b48c42b87b396e246ea3f56fa4bfc9678   \n",
       "4  3301089b48c42b87b396e246ea3f56fa4bfc9678   \n",
       "\n",
       "                                                 url partition  \n",
       "0  https://github.com/openai/baselines/blob/33010...     valid  \n",
       "1  https://github.com/openai/baselines/blob/33010...     valid  \n",
       "2  https://github.com/openai/baselines/blob/33010...     valid  \n",
       "3  https://github.com/openai/baselines/blob/33010...     valid  \n",
       "4  https://github.com/openai/baselines/blob/33010...     valid  "
      ]
     },
     "execution_count": 6,
     "metadata": {},
     "output_type": "execute_result"
    }
   ],
   "source": [
    "df_list[0].head()"
   ]
  },
  {
   "cell_type": "code",
   "execution_count": 7,
   "id": "15159314",
   "metadata": {},
   "outputs": [
    {
     "name": "stdout",
     "output_type": "stream",
     "text": [
      "number of data points ====> 23107\n",
      "number of data points after processing ====> 23107\n"
     ]
    }
   ],
   "source": [
    "# check for duplicates and remove them if necessary\n",
    "\n",
    "number_of_dps = 0\n",
    "\n",
    "for df in df_list:\n",
    "    number_of_dps += len(df)\n",
    "print(\"number of data points ====> \" + str(number_of_dps))\n",
    "after = 0\n",
    "\n",
    "for df in df_list:\n",
    "    df.drop_duplicates([\"docstring\", \"original_string\"])\n",
    "    after += len(df)\n",
    "print(\"number of data points after processing ====> \" + str(after))"
   ]
  },
  {
   "cell_type": "code",
   "execution_count": 8,
   "id": "82988f86",
   "metadata": {},
   "outputs": [
    {
     "name": "stdout",
     "output_type": "stream",
     "text": [
      "number of data points after processing ====> 20854\n"
     ]
    }
   ],
   "source": [
    "# remove all docstrings that are less than five words\n",
    "\n",
    "after = 0\n",
    "dfs = []\n",
    "for df in df_list:\n",
    "    df = df[df[\"docstring_tokens\"].map(lambda x: len(x) > 4)]\n",
    "    dfs.append(df)\n",
    "    after += len(df)\n",
    "print(\"number of data points after processing ====> \" + str(after))"
   ]
  },
  {
   "cell_type": "code",
   "execution_count": 9,
   "id": "9a42342c",
   "metadata": {},
   "outputs": [
    {
     "name": "stdout",
     "output_type": "stream",
     "text": [
      "number of data points after processing ====> 20835\n"
     ]
    }
   ],
   "source": [
    "# remove all the __init__() function calls\n",
    "\n",
    "after = 0\n",
    "df_list = []\n",
    "for df in dfs:\n",
    "    df = df[df[\"docstring_tokens\"].map(lambda x: \"__init__\" not in x)]\n",
    "    df_list.append(df)\n",
    "    after += len(df)\n",
    "print(\"number of data points after processing ====> \" + str(after))\n"
   ]
  },
  {
   "cell_type": "code",
   "execution_count": 10,
   "id": "a7c1e381",
   "metadata": {},
   "outputs": [],
   "source": [
    "# sort the data in ascending order of function tokens\n",
    "\n",
    "python_df = pd.concat(df_list)\n",
    "python_df[\"len_tok\"] = python_df[\"code_tokens\"].map(lambda x: len(x))\n",
    "python_df.sort_values(by=\"len_tok\", inplace=True)\n",
    "\n",
    "del python_df[\"partition\"]\n",
    "del python_df[\"url\"]\n",
    "del python_df[\"language\"]\n",
    "del python_df[\"func_name\"]\n",
    "del python_df[\"repo\"]\n",
    "del python_df[\"path\"]\n",
    "del python_df[\"original_string\"]\n",
    "del python_df[\"code_tokens\"]\n",
    "del python_df[\"docstring_tokens\"]\n",
    "del python_df[\"sha\"]\n",
    "del python_df[\"len_tok\"]"
   ]
  },
  {
   "cell_type": "code",
   "execution_count": 11,
   "id": "6e2c115a",
   "metadata": {},
   "outputs": [],
   "source": [
    "python_df.head()\n",
    "\n",
    "python_df.to_pickle(\"python_valid.pkl\")"
   ]
  },
  {
   "cell_type": "code",
   "execution_count": 35,
   "id": "f6ade62d",
   "metadata": {},
   "outputs": [
    {
     "ename": "ModuleNotFoundError",
     "evalue": "No module named 'datasets'",
     "output_type": "error",
     "traceback": [
      "\u001b[0;31m---------------------------------------------------------------------------\u001b[0m",
      "\u001b[0;31mModuleNotFoundError\u001b[0m                       Traceback (most recent call last)",
      "\u001b[0;32m<ipython-input-35-7b6becee3685>\u001b[0m in \u001b[0;36m<module>\u001b[0;34m\u001b[0m\n\u001b[0;32m----> 1\u001b[0;31m \u001b[0;32mfrom\u001b[0m \u001b[0mdatasets\u001b[0m \u001b[0;32mimport\u001b[0m \u001b[0mDataset\u001b[0m\u001b[0;34m\u001b[0m\u001b[0;34m\u001b[0m\u001b[0m\n\u001b[0m",
      "\u001b[0;31mModuleNotFoundError\u001b[0m: No module named 'datasets'"
     ]
    }
   ],
   "source": []
  },
  {
   "cell_type": "code",
   "execution_count": null,
   "id": "2daeb323",
   "metadata": {},
   "outputs": [],
   "source": []
  }
 ],
 "metadata": {
  "kernelspec": {
   "display_name": "hugging-face",
   "language": "python",
   "name": "hugging-face"
  },
  "language_info": {
   "codemirror_mode": {
    "name": "ipython",
    "version": 3
   },
   "file_extension": ".py",
   "mimetype": "text/x-python",
   "name": "python",
   "nbconvert_exporter": "python",
   "pygments_lexer": "ipython3",
   "version": "3.8.10"
  }
 },
 "nbformat": 4,
 "nbformat_minor": 5
}
